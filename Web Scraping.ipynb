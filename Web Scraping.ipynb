{
 "cells": [
  {
   "cell_type": "code",
   "execution_count": 56,
   "id": "5d92bd74",
   "metadata": {},
   "outputs": [],
   "source": [
    "# Importation des bibliothèques nécessaires\n",
    "from bs4 import BeautifulSoup\n",
    "import requests\n",
    "import pandas as pd"
   ]
  },
  {
   "cell_type": "code",
   "execution_count": 57,
   "id": "28d91cab",
   "metadata": {},
   "outputs": [],
   "source": [
    "# Lien de la page à scraper\n",
    "url='https://www.booking.com/searchresults.fr.html?ss=%C3%8Ele-de-France&ssne=%C3%8Ele-de-France&ssne_untouched=%C3%8Ele-de-France&efdco=1&label=msn-cmvrz2iIJvoSCIe32hC*fA-79989658705793%3Atikwd-79989834233190%3Aloc-66%3Aneo%3Amte%3Alp125942%3Adec%3Aqsbooking&sid=c79f1bdefeb976499d3644dcf3e1d5fe&aid=2369661&lang=fr&sb=1&src_elem=sb&src=searchresults&dest_id=1425&dest_type=region&checkin=2024-06-08&checkout=2024-06-09&group_adults=2&no_rooms=1&group_children=0'\n",
    "# Téléchargement du contenu de la page\n",
    "response = requests.get(url)"
   ]
  },
  {
   "cell_type": "code",
   "execution_count": 60,
   "id": "35ad384b",
   "metadata": {},
   "outputs": [
    {
     "data": {
      "text/plain": [
       "<Response [200]>"
      ]
     },
     "execution_count": 60,
     "metadata": {},
     "output_type": "execute_result"
    }
   ],
   "source": [
    "# Vérification du fonctionnement de la page\n",
    "response\n",
    "\n",
    "# Response [200] : La page a été téléchargée avec succès"
   ]
  },
  {
   "cell_type": "code",
   "execution_count": 74,
   "id": "a4480000",
   "metadata": {},
   "outputs": [],
   "source": [
    "# Analyse du code HTML\n",
    "soup = BeautifulSoup(response.content, 'html.parser')"
   ]
  },
  {
   "cell_type": "code",
   "execution_count": 75,
   "id": "2228f476",
   "metadata": {},
   "outputs": [],
   "source": [
    "# Recherche des éléments d'hôtels, limité à 25 hôtels\n",
    "elements = soup.find_all('div', class_=\"c82435a4b8 a178069f51 a6ae3c2b40 a18aeea94d d794b7a0f7 f53e278e95 c6710787a4\", limit=25)"
   ]
  },
  {
   "cell_type": "code",
   "execution_count": 77,
   "id": "23fb48c7",
   "metadata": {},
   "outputs": [],
   "source": [
    "# Liste vide pour stocker les données extraites\n",
    "Data = []\n",
    "\n",
    "for element in elements:\n",
    "    # Extraction du titre de l'hôtel\n",
    "    title = element.find('div', class_='f6431b446c a15b38c233').text.strip()\n",
    "\n",
    "    # Extraction des évaluations clients\n",
    "    Retour_tag = element.find('div', class_='a3b8729ab1 e6208ee469 cb2cbb3ccb')\n",
    "    Retour = Retour_tag.text.strip('()') if Retour_tag  else 'Info non disponible'\n",
    "\n",
    "    # Extraction de la note des clients\n",
    "    Note_tag = element.find('div', class_='a3b8729ab1 d86cee9b25')\n",
    "    Note = Note_tag.get_text(separator='').strip().split('Avec')[0].strip()\n",
    "\n",
    "    # Extraction du nombre d'expériences vécues\n",
    "    Nbr_exp_tag = element.find('div', class_='abf093bdfe f45d8e4c32 d935416c47')\n",
    "    Nbr_exp = Nbr_exp_tag.get_text(separator='').strip().split('expériences')[0].strip()\n",
    "\n",
    "    # Extraction de l'adresse de l'hôtel\n",
    "    Adress_tag = element.find('span', class_='aee5343fdb def9bc142a')\n",
    "    Adress = Adress_tag.text.strip() if Adress_tag else 'Info non disponible'\n",
    "    \n",
    "    # Extraction du nombre d'étoiles de l'hôtel\n",
    "    Etoile_div = element.find('div', class_='b3f3c831be')\n",
    "    Etoile = Etoile_div['aria-label'] if Etoile_div else 'Info non disponible'\n",
    "    \n",
    "    # Extraction du certificat de l'hôtel\n",
    "    Certificat_tag = element.find('span', class_='abf093bdfe e6208ee469 f68ecd98ea')\n",
    "    Certificat = Certificat_tag.text.strip() if Certificat_tag else 'Pas de certificat'\n",
    " \n",
    "    # Ajout des données dans la liste\n",
    "    Data.append({'Titre': title,\n",
    "                 'Evaluation': Retour ,\n",
    "                 'Note des clients ': Note ,\n",
    "                 'Nombre expéreinces vécus' : Nbr_exp ,\n",
    "                 'Adresse': Adress ,\n",
    "                 'Étoile': Etoile ,\n",
    "                 'Certficat': Certificat\n",
    "                })\n",
    "    \n",
    "    # Création d'un DataFrame pandas à partir des données\n",
    "    df = pd.DataFrame(Data)\n",
    "    \n",
    "    # Enregistrement du DataFrame au format Excel\n",
    "    df.to_excel('hotels_Ile_De_France_data.xlsx', index=False)"
   ]
  }
 ],
 "metadata": {
  "kernelspec": {
   "display_name": "Python 3 (ipykernel)",
   "language": "python",
   "name": "python3"
  },
  "language_info": {
   "codemirror_mode": {
    "name": "ipython",
    "version": 3
   },
   "file_extension": ".py",
   "mimetype": "text/x-python",
   "name": "python",
   "nbconvert_exporter": "python",
   "pygments_lexer": "ipython3",
   "version": "3.11.5"
  }
 },
 "nbformat": 4,
 "nbformat_minor": 5
}
